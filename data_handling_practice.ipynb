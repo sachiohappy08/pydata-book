{
  "nbformat": 4,
  "nbformat_minor": 0,
  "metadata": {
    "kernelspec": {
      "display_name": "Python 3",
      "language": "python",
      "name": "python3"
    },
    "language_info": {
      "codemirror_mode": {
        "name": "ipython",
        "version": 3
      },
      "file_extension": ".py",
      "mimetype": "text/x-python",
      "name": "python",
      "nbconvert_exporter": "python",
      "pygments_lexer": "ipython3",
      "version": "3.6.5"
    },
    "colab": {
      "name": "data_handling_practice.ipynb",
      "provenance": [],
      "include_colab_link": true
    }
  },
  "cells": [
    {
      "cell_type": "markdown",
      "metadata": {
        "id": "view-in-github",
        "colab_type": "text"
      },
      "source": [
        "<a href=\"https://colab.research.google.com/github/sachiohappy08/pydata-book/blob/1st-edition/data_handling_practice.ipynb\" target=\"_parent\"><img src=\"https://colab.research.google.com/assets/colab-badge.svg\" alt=\"Open In Colab\"/></a>"
      ]
    },
    {
      "cell_type": "markdown",
      "metadata": {
        "id": "DkEWVw2uoofc"
      },
      "source": [
        "# Pandasドリル\n",
        "## 復習用宿題 - データハンドリング\n",
        "\n",
        "copyright 2018 株式会社データミックス"
      ]
    },
    {
      "cell_type": "code",
      "metadata": {
        "collapsed": true,
        "id": "WblWRnlroofi"
      },
      "source": [
        "%matplotlib inline\n",
        "import matplotlib\n",
        "import matplotlib.pyplot as plt\n",
        "import numpy as np\n",
        "import pandas as pd\n",
        "\n",
        "matplotlib.style.use('ggplot')"
      ],
      "execution_count": 2,
      "outputs": []
    },
    {
      "cell_type": "markdown",
      "metadata": {
        "id": "reQQ7T1Goofi"
      },
      "source": [
        "## データを読み込みましょう\n",
        "\n",
        "\n",
        "world-happiness-reportフォルダにあるファイル、2015.csv, 2016.csv, 2017.csvを読み込みましょう"
      ]
    },
    {
      "cell_type": "markdown",
      "metadata": {
        "id": "RrN3fHHxoofj"
      },
      "source": [
        "### 例: 2015.csvを読み込む"
      ]
    },
    {
      "cell_type": "code",
      "metadata": {
        "colab": {
          "base_uri": "https://localhost:8080/"
        },
        "id": "Q5k6KHb41T6t",
        "outputId": "35744ad9-7e3f-4458-cd5a-fd738cc51569"
      },
      "source": [
        "from google.colab import drive\n",
        "drive.mount('/content/drive')"
      ],
      "execution_count": 5,
      "outputs": [
        {
          "output_type": "stream",
          "text": [
            "Drive already mounted at /content/drive; to attempt to forcibly remount, call drive.mount(\"/content/drive\", force_remount=True).\n"
          ],
          "name": "stdout"
        }
      ]
    },
    {
      "cell_type": "code",
      "metadata": {
        "collapsed": true,
        "colab": {
          "base_uri": "https://localhost:8080/",
          "height": 306
        },
        "id": "W1hQLHZKoofj",
        "outputId": "0f1b960c-8e5f-477f-d12d-80e50a9a05ac"
      },
      "source": [
        "whr2015 = pd.read_csv(\"drive/My Drive/DATAMIX/PYTHON/Bootcamp_Machine_Learning_Day1_Homework/dataset/world-happiness-report/2015.csv\")\n",
        "whr2015.head()"
      ],
      "execution_count": 6,
      "outputs": [
        {
          "output_type": "execute_result",
          "data": {
            "text/html": [
              "<div>\n",
              "<style scoped>\n",
              "    .dataframe tbody tr th:only-of-type {\n",
              "        vertical-align: middle;\n",
              "    }\n",
              "\n",
              "    .dataframe tbody tr th {\n",
              "        vertical-align: top;\n",
              "    }\n",
              "\n",
              "    .dataframe thead th {\n",
              "        text-align: right;\n",
              "    }\n",
              "</style>\n",
              "<table border=\"1\" class=\"dataframe\">\n",
              "  <thead>\n",
              "    <tr style=\"text-align: right;\">\n",
              "      <th></th>\n",
              "      <th>Country</th>\n",
              "      <th>Region</th>\n",
              "      <th>Happiness Rank</th>\n",
              "      <th>Happiness Score</th>\n",
              "      <th>Standard Error</th>\n",
              "      <th>Economy (GDP per Capita)</th>\n",
              "      <th>Family</th>\n",
              "      <th>Health (Life Expectancy)</th>\n",
              "      <th>Freedom</th>\n",
              "      <th>Trust (Government Corruption)</th>\n",
              "      <th>Generosity</th>\n",
              "      <th>Dystopia Residual</th>\n",
              "    </tr>\n",
              "  </thead>\n",
              "  <tbody>\n",
              "    <tr>\n",
              "      <th>0</th>\n",
              "      <td>Switzerland</td>\n",
              "      <td>Western Europe</td>\n",
              "      <td>1</td>\n",
              "      <td>7.587</td>\n",
              "      <td>0.03411</td>\n",
              "      <td>1.39651</td>\n",
              "      <td>1.34951</td>\n",
              "      <td>0.94143</td>\n",
              "      <td>0.66557</td>\n",
              "      <td>0.41978</td>\n",
              "      <td>0.29678</td>\n",
              "      <td>2.51738</td>\n",
              "    </tr>\n",
              "    <tr>\n",
              "      <th>1</th>\n",
              "      <td>Iceland</td>\n",
              "      <td>Western Europe</td>\n",
              "      <td>2</td>\n",
              "      <td>7.561</td>\n",
              "      <td>0.04884</td>\n",
              "      <td>1.30232</td>\n",
              "      <td>1.40223</td>\n",
              "      <td>0.94784</td>\n",
              "      <td>0.62877</td>\n",
              "      <td>0.14145</td>\n",
              "      <td>0.43630</td>\n",
              "      <td>2.70201</td>\n",
              "    </tr>\n",
              "    <tr>\n",
              "      <th>2</th>\n",
              "      <td>Denmark</td>\n",
              "      <td>Western Europe</td>\n",
              "      <td>3</td>\n",
              "      <td>7.527</td>\n",
              "      <td>0.03328</td>\n",
              "      <td>1.32548</td>\n",
              "      <td>1.36058</td>\n",
              "      <td>0.87464</td>\n",
              "      <td>0.64938</td>\n",
              "      <td>0.48357</td>\n",
              "      <td>0.34139</td>\n",
              "      <td>2.49204</td>\n",
              "    </tr>\n",
              "    <tr>\n",
              "      <th>3</th>\n",
              "      <td>Norway</td>\n",
              "      <td>Western Europe</td>\n",
              "      <td>4</td>\n",
              "      <td>7.522</td>\n",
              "      <td>0.03880</td>\n",
              "      <td>1.45900</td>\n",
              "      <td>1.33095</td>\n",
              "      <td>0.88521</td>\n",
              "      <td>0.66973</td>\n",
              "      <td>0.36503</td>\n",
              "      <td>0.34699</td>\n",
              "      <td>2.46531</td>\n",
              "    </tr>\n",
              "    <tr>\n",
              "      <th>4</th>\n",
              "      <td>Canada</td>\n",
              "      <td>North America</td>\n",
              "      <td>5</td>\n",
              "      <td>7.427</td>\n",
              "      <td>0.03553</td>\n",
              "      <td>1.32629</td>\n",
              "      <td>1.32261</td>\n",
              "      <td>0.90563</td>\n",
              "      <td>0.63297</td>\n",
              "      <td>0.32957</td>\n",
              "      <td>0.45811</td>\n",
              "      <td>2.45176</td>\n",
              "    </tr>\n",
              "  </tbody>\n",
              "</table>\n",
              "</div>"
            ],
            "text/plain": [
              "       Country          Region  ...  Generosity  Dystopia Residual\n",
              "0  Switzerland  Western Europe  ...     0.29678            2.51738\n",
              "1      Iceland  Western Europe  ...     0.43630            2.70201\n",
              "2      Denmark  Western Europe  ...     0.34139            2.49204\n",
              "3       Norway  Western Europe  ...     0.34699            2.46531\n",
              "4       Canada   North America  ...     0.45811            2.45176\n",
              "\n",
              "[5 rows x 12 columns]"
            ]
          },
          "metadata": {
            "tags": []
          },
          "execution_count": 6
        }
      ]
    },
    {
      "cell_type": "markdown",
      "metadata": {
        "id": "tZTjNc0Uoofj"
      },
      "source": [
        "列名を確認するには、以下のようにします。"
      ]
    },
    {
      "cell_type": "code",
      "metadata": {
        "collapsed": true,
        "colab": {
          "base_uri": "https://localhost:8080/"
        },
        "id": "VqBfcuhWoofk",
        "outputId": "6972059c-24bd-4236-8e89-09fbc45a4fb8"
      },
      "source": [
        "whr2015.columns"
      ],
      "execution_count": 7,
      "outputs": [
        {
          "output_type": "execute_result",
          "data": {
            "text/plain": [
              "Index(['Country', 'Region', 'Happiness Rank', 'Happiness Score',\n",
              "       'Standard Error', 'Economy (GDP per Capita)', 'Family',\n",
              "       'Health (Life Expectancy)', 'Freedom', 'Trust (Government Corruption)',\n",
              "       'Generosity', 'Dystopia Residual'],\n",
              "      dtype='object')"
            ]
          },
          "metadata": {
            "tags": []
          },
          "execution_count": 7
        }
      ]
    },
    {
      "cell_type": "markdown",
      "metadata": {
        "id": "UP0tSE8toofk"
      },
      "source": [
        "### 練習1: 2016.csvを読み込み、列名を確認しましょう"
      ]
    },
    {
      "cell_type": "code",
      "metadata": {
        "collapsed": true,
        "colab": {
          "base_uri": "https://localhost:8080/",
          "height": 323
        },
        "id": "sB6EWxH0oofk",
        "outputId": "c4190a24-1bf1-46a7-a709-334e614491ec"
      },
      "source": [
        "whr2016 = pd.read_csv(\"drive/My Drive/DATAMIX/PYTHON/Bootcamp_Machine_Learning_Day1_Homework/dataset/world-happiness-report/2016.csv\")\n",
        "whr2016.head()"
      ],
      "execution_count": 8,
      "outputs": [
        {
          "output_type": "execute_result",
          "data": {
            "text/html": [
              "<div>\n",
              "<style scoped>\n",
              "    .dataframe tbody tr th:only-of-type {\n",
              "        vertical-align: middle;\n",
              "    }\n",
              "\n",
              "    .dataframe tbody tr th {\n",
              "        vertical-align: top;\n",
              "    }\n",
              "\n",
              "    .dataframe thead th {\n",
              "        text-align: right;\n",
              "    }\n",
              "</style>\n",
              "<table border=\"1\" class=\"dataframe\">\n",
              "  <thead>\n",
              "    <tr style=\"text-align: right;\">\n",
              "      <th></th>\n",
              "      <th>Country</th>\n",
              "      <th>Region</th>\n",
              "      <th>Happiness Rank</th>\n",
              "      <th>Happiness Score</th>\n",
              "      <th>Lower Confidence Interval</th>\n",
              "      <th>Upper Confidence Interval</th>\n",
              "      <th>Economy (GDP per Capita)</th>\n",
              "      <th>Family</th>\n",
              "      <th>Health (Life Expectancy)</th>\n",
              "      <th>Freedom</th>\n",
              "      <th>Trust (Government Corruption)</th>\n",
              "      <th>Generosity</th>\n",
              "      <th>Dystopia Residual</th>\n",
              "    </tr>\n",
              "  </thead>\n",
              "  <tbody>\n",
              "    <tr>\n",
              "      <th>0</th>\n",
              "      <td>Denmark</td>\n",
              "      <td>Western Europe</td>\n",
              "      <td>1</td>\n",
              "      <td>7.526</td>\n",
              "      <td>7.460</td>\n",
              "      <td>7.592</td>\n",
              "      <td>1.44178</td>\n",
              "      <td>1.16374</td>\n",
              "      <td>0.79504</td>\n",
              "      <td>0.57941</td>\n",
              "      <td>0.44453</td>\n",
              "      <td>0.36171</td>\n",
              "      <td>2.73939</td>\n",
              "    </tr>\n",
              "    <tr>\n",
              "      <th>1</th>\n",
              "      <td>Switzerland</td>\n",
              "      <td>Western Europe</td>\n",
              "      <td>2</td>\n",
              "      <td>7.509</td>\n",
              "      <td>7.428</td>\n",
              "      <td>7.590</td>\n",
              "      <td>1.52733</td>\n",
              "      <td>1.14524</td>\n",
              "      <td>0.86303</td>\n",
              "      <td>0.58557</td>\n",
              "      <td>0.41203</td>\n",
              "      <td>0.28083</td>\n",
              "      <td>2.69463</td>\n",
              "    </tr>\n",
              "    <tr>\n",
              "      <th>2</th>\n",
              "      <td>Iceland</td>\n",
              "      <td>Western Europe</td>\n",
              "      <td>3</td>\n",
              "      <td>7.501</td>\n",
              "      <td>7.333</td>\n",
              "      <td>7.669</td>\n",
              "      <td>1.42666</td>\n",
              "      <td>1.18326</td>\n",
              "      <td>0.86733</td>\n",
              "      <td>0.56624</td>\n",
              "      <td>0.14975</td>\n",
              "      <td>0.47678</td>\n",
              "      <td>2.83137</td>\n",
              "    </tr>\n",
              "    <tr>\n",
              "      <th>3</th>\n",
              "      <td>Norway</td>\n",
              "      <td>Western Europe</td>\n",
              "      <td>4</td>\n",
              "      <td>7.498</td>\n",
              "      <td>7.421</td>\n",
              "      <td>7.575</td>\n",
              "      <td>1.57744</td>\n",
              "      <td>1.12690</td>\n",
              "      <td>0.79579</td>\n",
              "      <td>0.59609</td>\n",
              "      <td>0.35776</td>\n",
              "      <td>0.37895</td>\n",
              "      <td>2.66465</td>\n",
              "    </tr>\n",
              "    <tr>\n",
              "      <th>4</th>\n",
              "      <td>Finland</td>\n",
              "      <td>Western Europe</td>\n",
              "      <td>5</td>\n",
              "      <td>7.413</td>\n",
              "      <td>7.351</td>\n",
              "      <td>7.475</td>\n",
              "      <td>1.40598</td>\n",
              "      <td>1.13464</td>\n",
              "      <td>0.81091</td>\n",
              "      <td>0.57104</td>\n",
              "      <td>0.41004</td>\n",
              "      <td>0.25492</td>\n",
              "      <td>2.82596</td>\n",
              "    </tr>\n",
              "  </tbody>\n",
              "</table>\n",
              "</div>"
            ],
            "text/plain": [
              "       Country          Region  ...  Generosity  Dystopia Residual\n",
              "0      Denmark  Western Europe  ...     0.36171            2.73939\n",
              "1  Switzerland  Western Europe  ...     0.28083            2.69463\n",
              "2      Iceland  Western Europe  ...     0.47678            2.83137\n",
              "3       Norway  Western Europe  ...     0.37895            2.66465\n",
              "4      Finland  Western Europe  ...     0.25492            2.82596\n",
              "\n",
              "[5 rows x 13 columns]"
            ]
          },
          "metadata": {
            "tags": []
          },
          "execution_count": 8
        }
      ]
    },
    {
      "cell_type": "code",
      "metadata": {
        "collapsed": true,
        "id": "sieK3vttoofk"
      },
      "source": [
        "# Enter your code here"
      ],
      "execution_count": null,
      "outputs": []
    },
    {
      "cell_type": "markdown",
      "metadata": {
        "id": "2P5_LBiNoofl"
      },
      "source": [
        "### 練習2: 2017.csvを読み込みましょう。さらに列名も確認しましょう"
      ]
    },
    {
      "cell_type": "code",
      "metadata": {
        "collapsed": true,
        "colab": {
          "base_uri": "https://localhost:8080/",
          "height": 224
        },
        "id": "2b795rceoofl",
        "outputId": "cbf6f18f-12d0-4c09-b853-08031564d3c3"
      },
      "source": [
        "whr2017 = pd.read_csv(\"drive/My Drive/DATAMIX/PYTHON/Bootcamp_Machine_Learning_Day1_Homework/dataset/world-happiness-report/2017.csv\")\n",
        "whr2017.head()"
      ],
      "execution_count": 9,
      "outputs": [
        {
          "output_type": "execute_result",
          "data": {
            "text/html": [
              "<div>\n",
              "<style scoped>\n",
              "    .dataframe tbody tr th:only-of-type {\n",
              "        vertical-align: middle;\n",
              "    }\n",
              "\n",
              "    .dataframe tbody tr th {\n",
              "        vertical-align: top;\n",
              "    }\n",
              "\n",
              "    .dataframe thead th {\n",
              "        text-align: right;\n",
              "    }\n",
              "</style>\n",
              "<table border=\"1\" class=\"dataframe\">\n",
              "  <thead>\n",
              "    <tr style=\"text-align: right;\">\n",
              "      <th></th>\n",
              "      <th>Country</th>\n",
              "      <th>Happiness.Rank</th>\n",
              "      <th>Happiness.Score</th>\n",
              "      <th>Whisker.high</th>\n",
              "      <th>Whisker.low</th>\n",
              "      <th>Economy..GDP.per.Capita.</th>\n",
              "      <th>Family</th>\n",
              "      <th>Health..Life.Expectancy.</th>\n",
              "      <th>Freedom</th>\n",
              "      <th>Generosity</th>\n",
              "      <th>Trust..Government.Corruption.</th>\n",
              "      <th>Dystopia.Residual</th>\n",
              "    </tr>\n",
              "  </thead>\n",
              "  <tbody>\n",
              "    <tr>\n",
              "      <th>0</th>\n",
              "      <td>Norway</td>\n",
              "      <td>1</td>\n",
              "      <td>7.537</td>\n",
              "      <td>7.594445</td>\n",
              "      <td>7.479556</td>\n",
              "      <td>1.616463</td>\n",
              "      <td>1.533524</td>\n",
              "      <td>0.796667</td>\n",
              "      <td>0.635423</td>\n",
              "      <td>0.362012</td>\n",
              "      <td>0.315964</td>\n",
              "      <td>2.277027</td>\n",
              "    </tr>\n",
              "    <tr>\n",
              "      <th>1</th>\n",
              "      <td>Denmark</td>\n",
              "      <td>2</td>\n",
              "      <td>7.522</td>\n",
              "      <td>7.581728</td>\n",
              "      <td>7.462272</td>\n",
              "      <td>1.482383</td>\n",
              "      <td>1.551122</td>\n",
              "      <td>0.792566</td>\n",
              "      <td>0.626007</td>\n",
              "      <td>0.355280</td>\n",
              "      <td>0.400770</td>\n",
              "      <td>2.313707</td>\n",
              "    </tr>\n",
              "    <tr>\n",
              "      <th>2</th>\n",
              "      <td>Iceland</td>\n",
              "      <td>3</td>\n",
              "      <td>7.504</td>\n",
              "      <td>7.622030</td>\n",
              "      <td>7.385970</td>\n",
              "      <td>1.480633</td>\n",
              "      <td>1.610574</td>\n",
              "      <td>0.833552</td>\n",
              "      <td>0.627163</td>\n",
              "      <td>0.475540</td>\n",
              "      <td>0.153527</td>\n",
              "      <td>2.322715</td>\n",
              "    </tr>\n",
              "    <tr>\n",
              "      <th>3</th>\n",
              "      <td>Switzerland</td>\n",
              "      <td>4</td>\n",
              "      <td>7.494</td>\n",
              "      <td>7.561772</td>\n",
              "      <td>7.426227</td>\n",
              "      <td>1.564980</td>\n",
              "      <td>1.516912</td>\n",
              "      <td>0.858131</td>\n",
              "      <td>0.620071</td>\n",
              "      <td>0.290549</td>\n",
              "      <td>0.367007</td>\n",
              "      <td>2.276716</td>\n",
              "    </tr>\n",
              "    <tr>\n",
              "      <th>4</th>\n",
              "      <td>Finland</td>\n",
              "      <td>5</td>\n",
              "      <td>7.469</td>\n",
              "      <td>7.527542</td>\n",
              "      <td>7.410458</td>\n",
              "      <td>1.443572</td>\n",
              "      <td>1.540247</td>\n",
              "      <td>0.809158</td>\n",
              "      <td>0.617951</td>\n",
              "      <td>0.245483</td>\n",
              "      <td>0.382612</td>\n",
              "      <td>2.430182</td>\n",
              "    </tr>\n",
              "  </tbody>\n",
              "</table>\n",
              "</div>"
            ],
            "text/plain": [
              "       Country  ...  Dystopia.Residual\n",
              "0       Norway  ...           2.277027\n",
              "1      Denmark  ...           2.313707\n",
              "2      Iceland  ...           2.322715\n",
              "3  Switzerland  ...           2.276716\n",
              "4      Finland  ...           2.430182\n",
              "\n",
              "[5 rows x 12 columns]"
            ]
          },
          "metadata": {
            "tags": []
          },
          "execution_count": 9
        }
      ]
    },
    {
      "cell_type": "code",
      "metadata": {
        "collapsed": true,
        "id": "VQ_5WBRUoofl"
      },
      "source": [
        "# Enter your code here"
      ],
      "execution_count": null,
      "outputs": []
    },
    {
      "cell_type": "markdown",
      "metadata": {
        "id": "K99h-Ns4oofl"
      },
      "source": [
        "## スライシング\n",
        "\n",
        "欲しいデータを抽出する練習をしましょう"
      ]
    },
    {
      "cell_type": "markdown",
      "metadata": {
        "id": "5qlBcsNZoofl"
      },
      "source": [
        "### 例: 2015年のデータの最初の10行を出力する"
      ]
    },
    {
      "cell_type": "code",
      "metadata": {
        "collapsed": true,
        "colab": {
          "base_uri": "https://localhost:8080/",
          "height": 410
        },
        "id": "NyW6TGcpoofm",
        "outputId": "502dfb85-376a-4842-d339-1bbe0037d404"
      },
      "source": [
        "whr2015[:10]"
      ],
      "execution_count": 10,
      "outputs": [
        {
          "output_type": "execute_result",
          "data": {
            "text/html": [
              "<div>\n",
              "<style scoped>\n",
              "    .dataframe tbody tr th:only-of-type {\n",
              "        vertical-align: middle;\n",
              "    }\n",
              "\n",
              "    .dataframe tbody tr th {\n",
              "        vertical-align: top;\n",
              "    }\n",
              "\n",
              "    .dataframe thead th {\n",
              "        text-align: right;\n",
              "    }\n",
              "</style>\n",
              "<table border=\"1\" class=\"dataframe\">\n",
              "  <thead>\n",
              "    <tr style=\"text-align: right;\">\n",
              "      <th></th>\n",
              "      <th>Country</th>\n",
              "      <th>Region</th>\n",
              "      <th>Happiness Rank</th>\n",
              "      <th>Happiness Score</th>\n",
              "      <th>Standard Error</th>\n",
              "      <th>Economy (GDP per Capita)</th>\n",
              "      <th>Family</th>\n",
              "      <th>Health (Life Expectancy)</th>\n",
              "      <th>Freedom</th>\n",
              "      <th>Trust (Government Corruption)</th>\n",
              "      <th>Generosity</th>\n",
              "      <th>Dystopia Residual</th>\n",
              "    </tr>\n",
              "  </thead>\n",
              "  <tbody>\n",
              "    <tr>\n",
              "      <th>0</th>\n",
              "      <td>Switzerland</td>\n",
              "      <td>Western Europe</td>\n",
              "      <td>1</td>\n",
              "      <td>7.587</td>\n",
              "      <td>0.03411</td>\n",
              "      <td>1.39651</td>\n",
              "      <td>1.34951</td>\n",
              "      <td>0.94143</td>\n",
              "      <td>0.66557</td>\n",
              "      <td>0.41978</td>\n",
              "      <td>0.29678</td>\n",
              "      <td>2.51738</td>\n",
              "    </tr>\n",
              "    <tr>\n",
              "      <th>1</th>\n",
              "      <td>Iceland</td>\n",
              "      <td>Western Europe</td>\n",
              "      <td>2</td>\n",
              "      <td>7.561</td>\n",
              "      <td>0.04884</td>\n",
              "      <td>1.30232</td>\n",
              "      <td>1.40223</td>\n",
              "      <td>0.94784</td>\n",
              "      <td>0.62877</td>\n",
              "      <td>0.14145</td>\n",
              "      <td>0.43630</td>\n",
              "      <td>2.70201</td>\n",
              "    </tr>\n",
              "    <tr>\n",
              "      <th>2</th>\n",
              "      <td>Denmark</td>\n",
              "      <td>Western Europe</td>\n",
              "      <td>3</td>\n",
              "      <td>7.527</td>\n",
              "      <td>0.03328</td>\n",
              "      <td>1.32548</td>\n",
              "      <td>1.36058</td>\n",
              "      <td>0.87464</td>\n",
              "      <td>0.64938</td>\n",
              "      <td>0.48357</td>\n",
              "      <td>0.34139</td>\n",
              "      <td>2.49204</td>\n",
              "    </tr>\n",
              "    <tr>\n",
              "      <th>3</th>\n",
              "      <td>Norway</td>\n",
              "      <td>Western Europe</td>\n",
              "      <td>4</td>\n",
              "      <td>7.522</td>\n",
              "      <td>0.03880</td>\n",
              "      <td>1.45900</td>\n",
              "      <td>1.33095</td>\n",
              "      <td>0.88521</td>\n",
              "      <td>0.66973</td>\n",
              "      <td>0.36503</td>\n",
              "      <td>0.34699</td>\n",
              "      <td>2.46531</td>\n",
              "    </tr>\n",
              "    <tr>\n",
              "      <th>4</th>\n",
              "      <td>Canada</td>\n",
              "      <td>North America</td>\n",
              "      <td>5</td>\n",
              "      <td>7.427</td>\n",
              "      <td>0.03553</td>\n",
              "      <td>1.32629</td>\n",
              "      <td>1.32261</td>\n",
              "      <td>0.90563</td>\n",
              "      <td>0.63297</td>\n",
              "      <td>0.32957</td>\n",
              "      <td>0.45811</td>\n",
              "      <td>2.45176</td>\n",
              "    </tr>\n",
              "    <tr>\n",
              "      <th>5</th>\n",
              "      <td>Finland</td>\n",
              "      <td>Western Europe</td>\n",
              "      <td>6</td>\n",
              "      <td>7.406</td>\n",
              "      <td>0.03140</td>\n",
              "      <td>1.29025</td>\n",
              "      <td>1.31826</td>\n",
              "      <td>0.88911</td>\n",
              "      <td>0.64169</td>\n",
              "      <td>0.41372</td>\n",
              "      <td>0.23351</td>\n",
              "      <td>2.61955</td>\n",
              "    </tr>\n",
              "    <tr>\n",
              "      <th>6</th>\n",
              "      <td>Netherlands</td>\n",
              "      <td>Western Europe</td>\n",
              "      <td>7</td>\n",
              "      <td>7.378</td>\n",
              "      <td>0.02799</td>\n",
              "      <td>1.32944</td>\n",
              "      <td>1.28017</td>\n",
              "      <td>0.89284</td>\n",
              "      <td>0.61576</td>\n",
              "      <td>0.31814</td>\n",
              "      <td>0.47610</td>\n",
              "      <td>2.46570</td>\n",
              "    </tr>\n",
              "    <tr>\n",
              "      <th>7</th>\n",
              "      <td>Sweden</td>\n",
              "      <td>Western Europe</td>\n",
              "      <td>8</td>\n",
              "      <td>7.364</td>\n",
              "      <td>0.03157</td>\n",
              "      <td>1.33171</td>\n",
              "      <td>1.28907</td>\n",
              "      <td>0.91087</td>\n",
              "      <td>0.65980</td>\n",
              "      <td>0.43844</td>\n",
              "      <td>0.36262</td>\n",
              "      <td>2.37119</td>\n",
              "    </tr>\n",
              "    <tr>\n",
              "      <th>8</th>\n",
              "      <td>New Zealand</td>\n",
              "      <td>Australia and New Zealand</td>\n",
              "      <td>9</td>\n",
              "      <td>7.286</td>\n",
              "      <td>0.03371</td>\n",
              "      <td>1.25018</td>\n",
              "      <td>1.31967</td>\n",
              "      <td>0.90837</td>\n",
              "      <td>0.63938</td>\n",
              "      <td>0.42922</td>\n",
              "      <td>0.47501</td>\n",
              "      <td>2.26425</td>\n",
              "    </tr>\n",
              "    <tr>\n",
              "      <th>9</th>\n",
              "      <td>Australia</td>\n",
              "      <td>Australia and New Zealand</td>\n",
              "      <td>10</td>\n",
              "      <td>7.284</td>\n",
              "      <td>0.04083</td>\n",
              "      <td>1.33358</td>\n",
              "      <td>1.30923</td>\n",
              "      <td>0.93156</td>\n",
              "      <td>0.65124</td>\n",
              "      <td>0.35637</td>\n",
              "      <td>0.43562</td>\n",
              "      <td>2.26646</td>\n",
              "    </tr>\n",
              "  </tbody>\n",
              "</table>\n",
              "</div>"
            ],
            "text/plain": [
              "       Country                     Region  ...  Generosity  Dystopia Residual\n",
              "0  Switzerland             Western Europe  ...     0.29678            2.51738\n",
              "1      Iceland             Western Europe  ...     0.43630            2.70201\n",
              "2      Denmark             Western Europe  ...     0.34139            2.49204\n",
              "3       Norway             Western Europe  ...     0.34699            2.46531\n",
              "4       Canada              North America  ...     0.45811            2.45176\n",
              "5      Finland             Western Europe  ...     0.23351            2.61955\n",
              "6  Netherlands             Western Europe  ...     0.47610            2.46570\n",
              "7       Sweden             Western Europe  ...     0.36262            2.37119\n",
              "8  New Zealand  Australia and New Zealand  ...     0.47501            2.26425\n",
              "9    Australia  Australia and New Zealand  ...     0.43562            2.26646\n",
              "\n",
              "[10 rows x 12 columns]"
            ]
          },
          "metadata": {
            "tags": []
          },
          "execution_count": 10
        }
      ]
    },
    {
      "cell_type": "markdown",
      "metadata": {
        "id": "MjiB0Yo_oofm"
      },
      "source": [
        "### 練習3: 2016年のデータの最初の20行を出力する"
      ]
    },
    {
      "cell_type": "code",
      "metadata": {
        "collapsed": true,
        "colab": {
          "base_uri": "https://localhost:8080/",
          "height": 427
        },
        "id": "4wMt5Tproofm",
        "outputId": "1f6f33f6-3286-4a01-8e8e-cf80fa4743e3"
      },
      "source": [
        "whr2016[:10]"
      ],
      "execution_count": 11,
      "outputs": [
        {
          "output_type": "execute_result",
          "data": {
            "text/html": [
              "<div>\n",
              "<style scoped>\n",
              "    .dataframe tbody tr th:only-of-type {\n",
              "        vertical-align: middle;\n",
              "    }\n",
              "\n",
              "    .dataframe tbody tr th {\n",
              "        vertical-align: top;\n",
              "    }\n",
              "\n",
              "    .dataframe thead th {\n",
              "        text-align: right;\n",
              "    }\n",
              "</style>\n",
              "<table border=\"1\" class=\"dataframe\">\n",
              "  <thead>\n",
              "    <tr style=\"text-align: right;\">\n",
              "      <th></th>\n",
              "      <th>Country</th>\n",
              "      <th>Region</th>\n",
              "      <th>Happiness Rank</th>\n",
              "      <th>Happiness Score</th>\n",
              "      <th>Lower Confidence Interval</th>\n",
              "      <th>Upper Confidence Interval</th>\n",
              "      <th>Economy (GDP per Capita)</th>\n",
              "      <th>Family</th>\n",
              "      <th>Health (Life Expectancy)</th>\n",
              "      <th>Freedom</th>\n",
              "      <th>Trust (Government Corruption)</th>\n",
              "      <th>Generosity</th>\n",
              "      <th>Dystopia Residual</th>\n",
              "    </tr>\n",
              "  </thead>\n",
              "  <tbody>\n",
              "    <tr>\n",
              "      <th>0</th>\n",
              "      <td>Denmark</td>\n",
              "      <td>Western Europe</td>\n",
              "      <td>1</td>\n",
              "      <td>7.526</td>\n",
              "      <td>7.460</td>\n",
              "      <td>7.592</td>\n",
              "      <td>1.44178</td>\n",
              "      <td>1.16374</td>\n",
              "      <td>0.79504</td>\n",
              "      <td>0.57941</td>\n",
              "      <td>0.44453</td>\n",
              "      <td>0.36171</td>\n",
              "      <td>2.73939</td>\n",
              "    </tr>\n",
              "    <tr>\n",
              "      <th>1</th>\n",
              "      <td>Switzerland</td>\n",
              "      <td>Western Europe</td>\n",
              "      <td>2</td>\n",
              "      <td>7.509</td>\n",
              "      <td>7.428</td>\n",
              "      <td>7.590</td>\n",
              "      <td>1.52733</td>\n",
              "      <td>1.14524</td>\n",
              "      <td>0.86303</td>\n",
              "      <td>0.58557</td>\n",
              "      <td>0.41203</td>\n",
              "      <td>0.28083</td>\n",
              "      <td>2.69463</td>\n",
              "    </tr>\n",
              "    <tr>\n",
              "      <th>2</th>\n",
              "      <td>Iceland</td>\n",
              "      <td>Western Europe</td>\n",
              "      <td>3</td>\n",
              "      <td>7.501</td>\n",
              "      <td>7.333</td>\n",
              "      <td>7.669</td>\n",
              "      <td>1.42666</td>\n",
              "      <td>1.18326</td>\n",
              "      <td>0.86733</td>\n",
              "      <td>0.56624</td>\n",
              "      <td>0.14975</td>\n",
              "      <td>0.47678</td>\n",
              "      <td>2.83137</td>\n",
              "    </tr>\n",
              "    <tr>\n",
              "      <th>3</th>\n",
              "      <td>Norway</td>\n",
              "      <td>Western Europe</td>\n",
              "      <td>4</td>\n",
              "      <td>7.498</td>\n",
              "      <td>7.421</td>\n",
              "      <td>7.575</td>\n",
              "      <td>1.57744</td>\n",
              "      <td>1.12690</td>\n",
              "      <td>0.79579</td>\n",
              "      <td>0.59609</td>\n",
              "      <td>0.35776</td>\n",
              "      <td>0.37895</td>\n",
              "      <td>2.66465</td>\n",
              "    </tr>\n",
              "    <tr>\n",
              "      <th>4</th>\n",
              "      <td>Finland</td>\n",
              "      <td>Western Europe</td>\n",
              "      <td>5</td>\n",
              "      <td>7.413</td>\n",
              "      <td>7.351</td>\n",
              "      <td>7.475</td>\n",
              "      <td>1.40598</td>\n",
              "      <td>1.13464</td>\n",
              "      <td>0.81091</td>\n",
              "      <td>0.57104</td>\n",
              "      <td>0.41004</td>\n",
              "      <td>0.25492</td>\n",
              "      <td>2.82596</td>\n",
              "    </tr>\n",
              "    <tr>\n",
              "      <th>5</th>\n",
              "      <td>Canada</td>\n",
              "      <td>North America</td>\n",
              "      <td>6</td>\n",
              "      <td>7.404</td>\n",
              "      <td>7.335</td>\n",
              "      <td>7.473</td>\n",
              "      <td>1.44015</td>\n",
              "      <td>1.09610</td>\n",
              "      <td>0.82760</td>\n",
              "      <td>0.57370</td>\n",
              "      <td>0.31329</td>\n",
              "      <td>0.44834</td>\n",
              "      <td>2.70485</td>\n",
              "    </tr>\n",
              "    <tr>\n",
              "      <th>6</th>\n",
              "      <td>Netherlands</td>\n",
              "      <td>Western Europe</td>\n",
              "      <td>7</td>\n",
              "      <td>7.339</td>\n",
              "      <td>7.284</td>\n",
              "      <td>7.394</td>\n",
              "      <td>1.46468</td>\n",
              "      <td>1.02912</td>\n",
              "      <td>0.81231</td>\n",
              "      <td>0.55211</td>\n",
              "      <td>0.29927</td>\n",
              "      <td>0.47416</td>\n",
              "      <td>2.70749</td>\n",
              "    </tr>\n",
              "    <tr>\n",
              "      <th>7</th>\n",
              "      <td>New Zealand</td>\n",
              "      <td>Australia and New Zealand</td>\n",
              "      <td>8</td>\n",
              "      <td>7.334</td>\n",
              "      <td>7.264</td>\n",
              "      <td>7.404</td>\n",
              "      <td>1.36066</td>\n",
              "      <td>1.17278</td>\n",
              "      <td>0.83096</td>\n",
              "      <td>0.58147</td>\n",
              "      <td>0.41904</td>\n",
              "      <td>0.49401</td>\n",
              "      <td>2.47553</td>\n",
              "    </tr>\n",
              "    <tr>\n",
              "      <th>8</th>\n",
              "      <td>Australia</td>\n",
              "      <td>Australia and New Zealand</td>\n",
              "      <td>9</td>\n",
              "      <td>7.313</td>\n",
              "      <td>7.241</td>\n",
              "      <td>7.385</td>\n",
              "      <td>1.44443</td>\n",
              "      <td>1.10476</td>\n",
              "      <td>0.85120</td>\n",
              "      <td>0.56837</td>\n",
              "      <td>0.32331</td>\n",
              "      <td>0.47407</td>\n",
              "      <td>2.54650</td>\n",
              "    </tr>\n",
              "    <tr>\n",
              "      <th>9</th>\n",
              "      <td>Sweden</td>\n",
              "      <td>Western Europe</td>\n",
              "      <td>10</td>\n",
              "      <td>7.291</td>\n",
              "      <td>7.227</td>\n",
              "      <td>7.355</td>\n",
              "      <td>1.45181</td>\n",
              "      <td>1.08764</td>\n",
              "      <td>0.83121</td>\n",
              "      <td>0.58218</td>\n",
              "      <td>0.40867</td>\n",
              "      <td>0.38254</td>\n",
              "      <td>2.54734</td>\n",
              "    </tr>\n",
              "  </tbody>\n",
              "</table>\n",
              "</div>"
            ],
            "text/plain": [
              "       Country                     Region  ...  Generosity  Dystopia Residual\n",
              "0      Denmark             Western Europe  ...     0.36171            2.73939\n",
              "1  Switzerland             Western Europe  ...     0.28083            2.69463\n",
              "2      Iceland             Western Europe  ...     0.47678            2.83137\n",
              "3       Norway             Western Europe  ...     0.37895            2.66465\n",
              "4      Finland             Western Europe  ...     0.25492            2.82596\n",
              "5       Canada              North America  ...     0.44834            2.70485\n",
              "6  Netherlands             Western Europe  ...     0.47416            2.70749\n",
              "7  New Zealand  Australia and New Zealand  ...     0.49401            2.47553\n",
              "8    Australia  Australia and New Zealand  ...     0.47407            2.54650\n",
              "9       Sweden             Western Europe  ...     0.38254            2.54734\n",
              "\n",
              "[10 rows x 13 columns]"
            ]
          },
          "metadata": {
            "tags": []
          },
          "execution_count": 11
        }
      ]
    },
    {
      "cell_type": "markdown",
      "metadata": {
        "id": "IoHEjp_4oofm"
      },
      "source": [
        "### 例: 2015年でHappiness Scoreが3以下の国を出力する"
      ]
    },
    {
      "cell_type": "code",
      "metadata": {
        "collapsed": true,
        "colab": {
          "base_uri": "https://localhost:8080/",
          "height": 162
        },
        "id": "5bOyKc1Joofm",
        "outputId": "6f23aa4b-fb80-443f-f243-cee082c1aacb"
      },
      "source": [
        "whr2015[whr2015['Happiness Score'] <=3]"
      ],
      "execution_count": 12,
      "outputs": [
        {
          "output_type": "execute_result",
          "data": {
            "text/html": [
              "<div>\n",
              "<style scoped>\n",
              "    .dataframe tbody tr th:only-of-type {\n",
              "        vertical-align: middle;\n",
              "    }\n",
              "\n",
              "    .dataframe tbody tr th {\n",
              "        vertical-align: top;\n",
              "    }\n",
              "\n",
              "    .dataframe thead th {\n",
              "        text-align: right;\n",
              "    }\n",
              "</style>\n",
              "<table border=\"1\" class=\"dataframe\">\n",
              "  <thead>\n",
              "    <tr style=\"text-align: right;\">\n",
              "      <th></th>\n",
              "      <th>Country</th>\n",
              "      <th>Region</th>\n",
              "      <th>Happiness Rank</th>\n",
              "      <th>Happiness Score</th>\n",
              "      <th>Standard Error</th>\n",
              "      <th>Economy (GDP per Capita)</th>\n",
              "      <th>Family</th>\n",
              "      <th>Health (Life Expectancy)</th>\n",
              "      <th>Freedom</th>\n",
              "      <th>Trust (Government Corruption)</th>\n",
              "      <th>Generosity</th>\n",
              "      <th>Dystopia Residual</th>\n",
              "    </tr>\n",
              "  </thead>\n",
              "  <tbody>\n",
              "    <tr>\n",
              "      <th>156</th>\n",
              "      <td>Burundi</td>\n",
              "      <td>Sub-Saharan Africa</td>\n",
              "      <td>157</td>\n",
              "      <td>2.905</td>\n",
              "      <td>0.08658</td>\n",
              "      <td>0.01530</td>\n",
              "      <td>0.41587</td>\n",
              "      <td>0.22396</td>\n",
              "      <td>0.11850</td>\n",
              "      <td>0.10062</td>\n",
              "      <td>0.19727</td>\n",
              "      <td>1.83302</td>\n",
              "    </tr>\n",
              "    <tr>\n",
              "      <th>157</th>\n",
              "      <td>Togo</td>\n",
              "      <td>Sub-Saharan Africa</td>\n",
              "      <td>158</td>\n",
              "      <td>2.839</td>\n",
              "      <td>0.06727</td>\n",
              "      <td>0.20868</td>\n",
              "      <td>0.13995</td>\n",
              "      <td>0.28443</td>\n",
              "      <td>0.36453</td>\n",
              "      <td>0.10731</td>\n",
              "      <td>0.16681</td>\n",
              "      <td>1.56726</td>\n",
              "    </tr>\n",
              "  </tbody>\n",
              "</table>\n",
              "</div>"
            ],
            "text/plain": [
              "     Country              Region  ...  Generosity  Dystopia Residual\n",
              "156  Burundi  Sub-Saharan Africa  ...     0.19727            1.83302\n",
              "157     Togo  Sub-Saharan Africa  ...     0.16681            1.56726\n",
              "\n",
              "[2 rows x 12 columns]"
            ]
          },
          "metadata": {
            "tags": []
          },
          "execution_count": 12
        }
      ]
    },
    {
      "cell_type": "markdown",
      "metadata": {
        "id": "w7cBYhGYoofn"
      },
      "source": [
        "### 練習4: 2017年のデータでHappiness Scoreが4以下の国を出力する"
      ]
    },
    {
      "cell_type": "code",
      "metadata": {
        "collapsed": true,
        "colab": {
          "base_uri": "https://localhost:8080/",
          "height": 740
        },
        "id": "LToXPrJfoofn",
        "outputId": "f09c3fe0-ed35-4471-ab42-7ec02f271f3b"
      },
      "source": [
        "whr2017[whr2017['Happiness.Score'] <=4]"
      ],
      "execution_count": 15,
      "outputs": [
        {
          "output_type": "execute_result",
          "data": {
            "text/html": [
              "<div>\n",
              "<style scoped>\n",
              "    .dataframe tbody tr th:only-of-type {\n",
              "        vertical-align: middle;\n",
              "    }\n",
              "\n",
              "    .dataframe tbody tr th {\n",
              "        vertical-align: top;\n",
              "    }\n",
              "\n",
              "    .dataframe thead th {\n",
              "        text-align: right;\n",
              "    }\n",
              "</style>\n",
              "<table border=\"1\" class=\"dataframe\">\n",
              "  <thead>\n",
              "    <tr style=\"text-align: right;\">\n",
              "      <th></th>\n",
              "      <th>Country</th>\n",
              "      <th>Happiness.Rank</th>\n",
              "      <th>Happiness.Score</th>\n",
              "      <th>Whisker.high</th>\n",
              "      <th>Whisker.low</th>\n",
              "      <th>Economy..GDP.per.Capita.</th>\n",
              "      <th>Family</th>\n",
              "      <th>Health..Life.Expectancy.</th>\n",
              "      <th>Freedom</th>\n",
              "      <th>Generosity</th>\n",
              "      <th>Trust..Government.Corruption.</th>\n",
              "      <th>Dystopia.Residual</th>\n",
              "    </tr>\n",
              "  </thead>\n",
              "  <tbody>\n",
              "    <tr>\n",
              "      <th>135</th>\n",
              "      <td>Malawi</td>\n",
              "      <td>136</td>\n",
              "      <td>3.970</td>\n",
              "      <td>4.077479</td>\n",
              "      <td>3.862521</td>\n",
              "      <td>0.233442</td>\n",
              "      <td>0.512569</td>\n",
              "      <td>0.315090</td>\n",
              "      <td>0.466915</td>\n",
              "      <td>0.287170</td>\n",
              "      <td>0.072712</td>\n",
              "      <td>2.081786</td>\n",
              "    </tr>\n",
              "    <tr>\n",
              "      <th>136</th>\n",
              "      <td>Chad</td>\n",
              "      <td>137</td>\n",
              "      <td>3.936</td>\n",
              "      <td>4.034712</td>\n",
              "      <td>3.837289</td>\n",
              "      <td>0.438013</td>\n",
              "      <td>0.953856</td>\n",
              "      <td>0.041135</td>\n",
              "      <td>0.162342</td>\n",
              "      <td>0.216114</td>\n",
              "      <td>0.053582</td>\n",
              "      <td>2.071238</td>\n",
              "    </tr>\n",
              "    <tr>\n",
              "      <th>137</th>\n",
              "      <td>Zimbabwe</td>\n",
              "      <td>138</td>\n",
              "      <td>3.875</td>\n",
              "      <td>3.978700</td>\n",
              "      <td>3.771300</td>\n",
              "      <td>0.375847</td>\n",
              "      <td>1.083096</td>\n",
              "      <td>0.196764</td>\n",
              "      <td>0.336384</td>\n",
              "      <td>0.189143</td>\n",
              "      <td>0.095375</td>\n",
              "      <td>1.597970</td>\n",
              "    </tr>\n",
              "    <tr>\n",
              "      <th>138</th>\n",
              "      <td>Lesotho</td>\n",
              "      <td>139</td>\n",
              "      <td>3.808</td>\n",
              "      <td>4.044344</td>\n",
              "      <td>3.571656</td>\n",
              "      <td>0.521021</td>\n",
              "      <td>1.190095</td>\n",
              "      <td>0.000000</td>\n",
              "      <td>0.390661</td>\n",
              "      <td>0.157497</td>\n",
              "      <td>0.119095</td>\n",
              "      <td>1.429835</td>\n",
              "    </tr>\n",
              "    <tr>\n",
              "      <th>139</th>\n",
              "      <td>Angola</td>\n",
              "      <td>140</td>\n",
              "      <td>3.795</td>\n",
              "      <td>3.951642</td>\n",
              "      <td>3.638358</td>\n",
              "      <td>0.858428</td>\n",
              "      <td>1.104412</td>\n",
              "      <td>0.049869</td>\n",
              "      <td>0.000000</td>\n",
              "      <td>0.097926</td>\n",
              "      <td>0.069720</td>\n",
              "      <td>1.614482</td>\n",
              "    </tr>\n",
              "    <tr>\n",
              "      <th>140</th>\n",
              "      <td>Afghanistan</td>\n",
              "      <td>141</td>\n",
              "      <td>3.794</td>\n",
              "      <td>3.873661</td>\n",
              "      <td>3.714338</td>\n",
              "      <td>0.401477</td>\n",
              "      <td>0.581543</td>\n",
              "      <td>0.180747</td>\n",
              "      <td>0.106180</td>\n",
              "      <td>0.311871</td>\n",
              "      <td>0.061158</td>\n",
              "      <td>2.150801</td>\n",
              "    </tr>\n",
              "    <tr>\n",
              "      <th>141</th>\n",
              "      <td>Botswana</td>\n",
              "      <td>142</td>\n",
              "      <td>3.766</td>\n",
              "      <td>3.874123</td>\n",
              "      <td>3.657877</td>\n",
              "      <td>1.122094</td>\n",
              "      <td>1.221555</td>\n",
              "      <td>0.341756</td>\n",
              "      <td>0.505196</td>\n",
              "      <td>0.099348</td>\n",
              "      <td>0.098583</td>\n",
              "      <td>0.377914</td>\n",
              "    </tr>\n",
              "    <tr>\n",
              "      <th>142</th>\n",
              "      <td>Benin</td>\n",
              "      <td>143</td>\n",
              "      <td>3.657</td>\n",
              "      <td>3.745784</td>\n",
              "      <td>3.568217</td>\n",
              "      <td>0.431085</td>\n",
              "      <td>0.435300</td>\n",
              "      <td>0.209930</td>\n",
              "      <td>0.425963</td>\n",
              "      <td>0.207948</td>\n",
              "      <td>0.060929</td>\n",
              "      <td>1.885631</td>\n",
              "    </tr>\n",
              "    <tr>\n",
              "      <th>143</th>\n",
              "      <td>Madagascar</td>\n",
              "      <td>144</td>\n",
              "      <td>3.644</td>\n",
              "      <td>3.714319</td>\n",
              "      <td>3.573681</td>\n",
              "      <td>0.305809</td>\n",
              "      <td>0.913020</td>\n",
              "      <td>0.375223</td>\n",
              "      <td>0.189197</td>\n",
              "      <td>0.208733</td>\n",
              "      <td>0.067232</td>\n",
              "      <td>1.584613</td>\n",
              "    </tr>\n",
              "    <tr>\n",
              "      <th>144</th>\n",
              "      <td>Haiti</td>\n",
              "      <td>145</td>\n",
              "      <td>3.603</td>\n",
              "      <td>3.734715</td>\n",
              "      <td>3.471285</td>\n",
              "      <td>0.368610</td>\n",
              "      <td>0.640450</td>\n",
              "      <td>0.277321</td>\n",
              "      <td>0.030370</td>\n",
              "      <td>0.489204</td>\n",
              "      <td>0.099872</td>\n",
              "      <td>1.697168</td>\n",
              "    </tr>\n",
              "    <tr>\n",
              "      <th>145</th>\n",
              "      <td>Yemen</td>\n",
              "      <td>146</td>\n",
              "      <td>3.593</td>\n",
              "      <td>3.692750</td>\n",
              "      <td>3.493250</td>\n",
              "      <td>0.591683</td>\n",
              "      <td>0.935382</td>\n",
              "      <td>0.310081</td>\n",
              "      <td>0.249464</td>\n",
              "      <td>0.104125</td>\n",
              "      <td>0.056767</td>\n",
              "      <td>1.345601</td>\n",
              "    </tr>\n",
              "    <tr>\n",
              "      <th>146</th>\n",
              "      <td>South Sudan</td>\n",
              "      <td>147</td>\n",
              "      <td>3.591</td>\n",
              "      <td>3.725539</td>\n",
              "      <td>3.456462</td>\n",
              "      <td>0.397249</td>\n",
              "      <td>0.601323</td>\n",
              "      <td>0.163486</td>\n",
              "      <td>0.147062</td>\n",
              "      <td>0.285671</td>\n",
              "      <td>0.116794</td>\n",
              "      <td>1.879567</td>\n",
              "    </tr>\n",
              "    <tr>\n",
              "      <th>147</th>\n",
              "      <td>Liberia</td>\n",
              "      <td>148</td>\n",
              "      <td>3.533</td>\n",
              "      <td>3.653756</td>\n",
              "      <td>3.412244</td>\n",
              "      <td>0.119042</td>\n",
              "      <td>0.872118</td>\n",
              "      <td>0.229918</td>\n",
              "      <td>0.332881</td>\n",
              "      <td>0.266550</td>\n",
              "      <td>0.038948</td>\n",
              "      <td>1.673286</td>\n",
              "    </tr>\n",
              "    <tr>\n",
              "      <th>148</th>\n",
              "      <td>Guinea</td>\n",
              "      <td>149</td>\n",
              "      <td>3.507</td>\n",
              "      <td>3.584428</td>\n",
              "      <td>3.429572</td>\n",
              "      <td>0.244550</td>\n",
              "      <td>0.791245</td>\n",
              "      <td>0.194129</td>\n",
              "      <td>0.348588</td>\n",
              "      <td>0.264815</td>\n",
              "      <td>0.110938</td>\n",
              "      <td>1.552312</td>\n",
              "    </tr>\n",
              "    <tr>\n",
              "      <th>149</th>\n",
              "      <td>Togo</td>\n",
              "      <td>150</td>\n",
              "      <td>3.495</td>\n",
              "      <td>3.594038</td>\n",
              "      <td>3.395962</td>\n",
              "      <td>0.305445</td>\n",
              "      <td>0.431883</td>\n",
              "      <td>0.247106</td>\n",
              "      <td>0.380426</td>\n",
              "      <td>0.196896</td>\n",
              "      <td>0.095665</td>\n",
              "      <td>1.837229</td>\n",
              "    </tr>\n",
              "    <tr>\n",
              "      <th>150</th>\n",
              "      <td>Rwanda</td>\n",
              "      <td>151</td>\n",
              "      <td>3.471</td>\n",
              "      <td>3.543030</td>\n",
              "      <td>3.398970</td>\n",
              "      <td>0.368746</td>\n",
              "      <td>0.945707</td>\n",
              "      <td>0.326425</td>\n",
              "      <td>0.581844</td>\n",
              "      <td>0.252756</td>\n",
              "      <td>0.455220</td>\n",
              "      <td>0.540061</td>\n",
              "    </tr>\n",
              "    <tr>\n",
              "      <th>151</th>\n",
              "      <td>Syria</td>\n",
              "      <td>152</td>\n",
              "      <td>3.462</td>\n",
              "      <td>3.663669</td>\n",
              "      <td>3.260331</td>\n",
              "      <td>0.777153</td>\n",
              "      <td>0.396103</td>\n",
              "      <td>0.500533</td>\n",
              "      <td>0.081539</td>\n",
              "      <td>0.493664</td>\n",
              "      <td>0.151347</td>\n",
              "      <td>1.061574</td>\n",
              "    </tr>\n",
              "    <tr>\n",
              "      <th>152</th>\n",
              "      <td>Tanzania</td>\n",
              "      <td>153</td>\n",
              "      <td>3.349</td>\n",
              "      <td>3.461430</td>\n",
              "      <td>3.236570</td>\n",
              "      <td>0.511136</td>\n",
              "      <td>1.041990</td>\n",
              "      <td>0.364509</td>\n",
              "      <td>0.390018</td>\n",
              "      <td>0.354256</td>\n",
              "      <td>0.066035</td>\n",
              "      <td>0.621130</td>\n",
              "    </tr>\n",
              "    <tr>\n",
              "      <th>153</th>\n",
              "      <td>Burundi</td>\n",
              "      <td>154</td>\n",
              "      <td>2.905</td>\n",
              "      <td>3.074690</td>\n",
              "      <td>2.735310</td>\n",
              "      <td>0.091623</td>\n",
              "      <td>0.629794</td>\n",
              "      <td>0.151611</td>\n",
              "      <td>0.059901</td>\n",
              "      <td>0.204435</td>\n",
              "      <td>0.084148</td>\n",
              "      <td>1.683024</td>\n",
              "    </tr>\n",
              "    <tr>\n",
              "      <th>154</th>\n",
              "      <td>Central African Republic</td>\n",
              "      <td>155</td>\n",
              "      <td>2.693</td>\n",
              "      <td>2.864884</td>\n",
              "      <td>2.521116</td>\n",
              "      <td>0.000000</td>\n",
              "      <td>0.000000</td>\n",
              "      <td>0.018773</td>\n",
              "      <td>0.270842</td>\n",
              "      <td>0.280876</td>\n",
              "      <td>0.056565</td>\n",
              "      <td>2.066005</td>\n",
              "    </tr>\n",
              "  </tbody>\n",
              "</table>\n",
              "</div>"
            ],
            "text/plain": [
              "                      Country  ...  Dystopia.Residual\n",
              "135                    Malawi  ...           2.081786\n",
              "136                      Chad  ...           2.071238\n",
              "137                  Zimbabwe  ...           1.597970\n",
              "138                   Lesotho  ...           1.429835\n",
              "139                    Angola  ...           1.614482\n",
              "140               Afghanistan  ...           2.150801\n",
              "141                  Botswana  ...           0.377914\n",
              "142                     Benin  ...           1.885631\n",
              "143                Madagascar  ...           1.584613\n",
              "144                     Haiti  ...           1.697168\n",
              "145                     Yemen  ...           1.345601\n",
              "146               South Sudan  ...           1.879567\n",
              "147                   Liberia  ...           1.673286\n",
              "148                    Guinea  ...           1.552312\n",
              "149                      Togo  ...           1.837229\n",
              "150                    Rwanda  ...           0.540061\n",
              "151                     Syria  ...           1.061574\n",
              "152                  Tanzania  ...           0.621130\n",
              "153                   Burundi  ...           1.683024\n",
              "154  Central African Republic  ...           2.066005\n",
              "\n",
              "[20 rows x 12 columns]"
            ]
          },
          "metadata": {
            "tags": []
          },
          "execution_count": 15
        }
      ]
    },
    {
      "cell_type": "markdown",
      "metadata": {
        "id": "oucijcAjoofn"
      },
      "source": [
        "### 例: 2015年でHappiness Scoreが4以下かつFreedomが0.5以上の国を出力する"
      ]
    },
    {
      "cell_type": "code",
      "metadata": {
        "collapsed": true,
        "colab": {
          "base_uri": "https://localhost:8080/",
          "height": 162
        },
        "id": "2lCFMMocoofn",
        "outputId": "83c73c1b-c88a-490b-d2ed-1b0f3ac09af1"
      },
      "source": [
        "whr2015[(whr2015['Happiness Score'] <=4) & (whr2015['Freedom'] >=0.5) ]"
      ],
      "execution_count": 16,
      "outputs": [
        {
          "output_type": "execute_result",
          "data": {
            "text/html": [
              "<div>\n",
              "<style scoped>\n",
              "    .dataframe tbody tr th:only-of-type {\n",
              "        vertical-align: middle;\n",
              "    }\n",
              "\n",
              "    .dataframe tbody tr th {\n",
              "        vertical-align: top;\n",
              "    }\n",
              "\n",
              "    .dataframe thead th {\n",
              "        text-align: right;\n",
              "    }\n",
              "</style>\n",
              "<table border=\"1\" class=\"dataframe\">\n",
              "  <thead>\n",
              "    <tr style=\"text-align: right;\">\n",
              "      <th></th>\n",
              "      <th>Country</th>\n",
              "      <th>Region</th>\n",
              "      <th>Happiness Rank</th>\n",
              "      <th>Happiness Score</th>\n",
              "      <th>Standard Error</th>\n",
              "      <th>Economy (GDP per Capita)</th>\n",
              "      <th>Family</th>\n",
              "      <th>Health (Life Expectancy)</th>\n",
              "      <th>Freedom</th>\n",
              "      <th>Trust (Government Corruption)</th>\n",
              "      <th>Generosity</th>\n",
              "      <th>Dystopia Residual</th>\n",
              "    </tr>\n",
              "  </thead>\n",
              "  <tbody>\n",
              "    <tr>\n",
              "      <th>144</th>\n",
              "      <td>Cambodia</td>\n",
              "      <td>Southeastern Asia</td>\n",
              "      <td>145</td>\n",
              "      <td>3.819</td>\n",
              "      <td>0.05069</td>\n",
              "      <td>0.46038</td>\n",
              "      <td>0.62736</td>\n",
              "      <td>0.61114</td>\n",
              "      <td>0.66246</td>\n",
              "      <td>0.07247</td>\n",
              "      <td>0.40359</td>\n",
              "      <td>0.98195</td>\n",
              "    </tr>\n",
              "    <tr>\n",
              "      <th>153</th>\n",
              "      <td>Rwanda</td>\n",
              "      <td>Sub-Saharan Africa</td>\n",
              "      <td>154</td>\n",
              "      <td>3.465</td>\n",
              "      <td>0.03464</td>\n",
              "      <td>0.22208</td>\n",
              "      <td>0.77370</td>\n",
              "      <td>0.42864</td>\n",
              "      <td>0.59201</td>\n",
              "      <td>0.55191</td>\n",
              "      <td>0.22628</td>\n",
              "      <td>0.67042</td>\n",
              "    </tr>\n",
              "  </tbody>\n",
              "</table>\n",
              "</div>"
            ],
            "text/plain": [
              "      Country              Region  ...  Generosity  Dystopia Residual\n",
              "144  Cambodia   Southeastern Asia  ...     0.40359            0.98195\n",
              "153    Rwanda  Sub-Saharan Africa  ...     0.22628            0.67042\n",
              "\n",
              "[2 rows x 12 columns]"
            ]
          },
          "metadata": {
            "tags": []
          },
          "execution_count": 16
        }
      ]
    },
    {
      "cell_type": "markdown",
      "metadata": {
        "id": "VNgk-g8Xoofo"
      },
      "source": [
        "### 練習5: 2017年のデータでFamilyが0.5以下かつFreedomが0.5以下の国を出力する"
      ]
    },
    {
      "cell_type": "code",
      "metadata": {
        "collapsed": true,
        "colab": {
          "base_uri": "https://localhost:8080/",
          "height": 227
        },
        "id": "pzx_uZy2oofo",
        "outputId": "761dc866-5460-4da3-8f8b-64ba50af64cc"
      },
      "source": [
        "whr2017[(whr2017[\"Family\"] <=0.5) & (whr2017[\"Freedom\"] <=0.5)]"
      ],
      "execution_count": 22,
      "outputs": [
        {
          "output_type": "execute_result",
          "data": {
            "text/html": [
              "<div>\n",
              "<style scoped>\n",
              "    .dataframe tbody tr th:only-of-type {\n",
              "        vertical-align: middle;\n",
              "    }\n",
              "\n",
              "    .dataframe tbody tr th {\n",
              "        vertical-align: top;\n",
              "    }\n",
              "\n",
              "    .dataframe thead th {\n",
              "        text-align: right;\n",
              "    }\n",
              "</style>\n",
              "<table border=\"1\" class=\"dataframe\">\n",
              "  <thead>\n",
              "    <tr style=\"text-align: right;\">\n",
              "      <th></th>\n",
              "      <th>Country</th>\n",
              "      <th>Happiness.Rank</th>\n",
              "      <th>Happiness.Score</th>\n",
              "      <th>Whisker.high</th>\n",
              "      <th>Whisker.low</th>\n",
              "      <th>Economy..GDP.per.Capita.</th>\n",
              "      <th>Family</th>\n",
              "      <th>Health..Life.Expectancy.</th>\n",
              "      <th>Freedom</th>\n",
              "      <th>Generosity</th>\n",
              "      <th>Trust..Government.Corruption.</th>\n",
              "      <th>Dystopia.Residual</th>\n",
              "    </tr>\n",
              "  </thead>\n",
              "  <tbody>\n",
              "    <tr>\n",
              "      <th>142</th>\n",
              "      <td>Benin</td>\n",
              "      <td>143</td>\n",
              "      <td>3.657</td>\n",
              "      <td>3.745784</td>\n",
              "      <td>3.568217</td>\n",
              "      <td>0.431085</td>\n",
              "      <td>0.435300</td>\n",
              "      <td>0.209930</td>\n",
              "      <td>0.425963</td>\n",
              "      <td>0.207948</td>\n",
              "      <td>0.060929</td>\n",
              "      <td>1.885631</td>\n",
              "    </tr>\n",
              "    <tr>\n",
              "      <th>149</th>\n",
              "      <td>Togo</td>\n",
              "      <td>150</td>\n",
              "      <td>3.495</td>\n",
              "      <td>3.594038</td>\n",
              "      <td>3.395962</td>\n",
              "      <td>0.305445</td>\n",
              "      <td>0.431883</td>\n",
              "      <td>0.247106</td>\n",
              "      <td>0.380426</td>\n",
              "      <td>0.196896</td>\n",
              "      <td>0.095665</td>\n",
              "      <td>1.837229</td>\n",
              "    </tr>\n",
              "    <tr>\n",
              "      <th>151</th>\n",
              "      <td>Syria</td>\n",
              "      <td>152</td>\n",
              "      <td>3.462</td>\n",
              "      <td>3.663669</td>\n",
              "      <td>3.260331</td>\n",
              "      <td>0.777153</td>\n",
              "      <td>0.396103</td>\n",
              "      <td>0.500533</td>\n",
              "      <td>0.081539</td>\n",
              "      <td>0.493664</td>\n",
              "      <td>0.151347</td>\n",
              "      <td>1.061574</td>\n",
              "    </tr>\n",
              "    <tr>\n",
              "      <th>154</th>\n",
              "      <td>Central African Republic</td>\n",
              "      <td>155</td>\n",
              "      <td>2.693</td>\n",
              "      <td>2.864884</td>\n",
              "      <td>2.521116</td>\n",
              "      <td>0.000000</td>\n",
              "      <td>0.000000</td>\n",
              "      <td>0.018773</td>\n",
              "      <td>0.270842</td>\n",
              "      <td>0.280876</td>\n",
              "      <td>0.056565</td>\n",
              "      <td>2.066005</td>\n",
              "    </tr>\n",
              "  </tbody>\n",
              "</table>\n",
              "</div>"
            ],
            "text/plain": [
              "                      Country  ...  Dystopia.Residual\n",
              "142                     Benin  ...           1.885631\n",
              "149                      Togo  ...           1.837229\n",
              "151                     Syria  ...           1.061574\n",
              "154  Central African Republic  ...           2.066005\n",
              "\n",
              "[4 rows x 12 columns]"
            ]
          },
          "metadata": {
            "tags": []
          },
          "execution_count": 22
        }
      ]
    },
    {
      "cell_type": "markdown",
      "metadata": {
        "id": "kf3dzITyoofo"
      },
      "source": [
        "### 例: 2015年でHappiness Rankが5の倍数の国名を出力する(forループを使って）\n",
        "\n",
        "pandas.DataFrameでは、indexという行番号を持っています"
      ]
    },
    {
      "cell_type": "code",
      "metadata": {
        "collapsed": true,
        "colab": {
          "base_uri": "https://localhost:8080/"
        },
        "id": "Zc9HRkNmoofo",
        "outputId": "a91c8dc1-fa2c-4b5e-d002-71f1584a095e"
      },
      "source": [
        "whr2015.index"
      ],
      "execution_count": 24,
      "outputs": [
        {
          "output_type": "execute_result",
          "data": {
            "text/plain": [
              "RangeIndex(start=0, stop=158, step=1)"
            ]
          },
          "metadata": {
            "tags": []
          },
          "execution_count": 24
        }
      ]
    },
    {
      "cell_type": "markdown",
      "metadata": {
        "id": "BuPeM-Ruoofo"
      },
      "source": [
        "indexを使うと、上から順にデータを取り出しながら処理することができます。\n",
        "今回のケースでは、Happiness Rankが5の倍数の国名をリストに格納し、出力してみます。\n",
        "\n",
        "参考：loc, ilocの使い分け http://ailaby.com/lox_iloc_ix/"
      ]
    },
    {
      "cell_type": "code",
      "metadata": {
        "collapsed": true,
        "colab": {
          "base_uri": "https://localhost:8080/"
        },
        "id": "X3B_yV5Yoofo",
        "outputId": "83e61b15-5805-460f-aa75-83e6ffcc6777"
      },
      "source": [
        "five_multi_countries = [] #変数作って列を代入していく。\n",
        "for idx in whr2015.index: #whr2015ファイルのindexからforループでidxを一つずつ取り出す。\n",
        "    if whr2015.iloc[idx]['Happiness Rank']%5==0: #もしwhr2015のidxにある'Happiness Rank'が5の倍数だったら\n",
        "        country = whr2015.iloc[idx]['Country'] #whr2015に新しい'Country'というカラムを作ってcountryに代入する。\n",
        "        five_multi_countries.append(country) # five_multi_countriesにcountryをappendする\n",
        "five_multi_countries"
      ],
      "execution_count": 25,
      "outputs": [
        {
          "output_type": "execute_result",
          "data": {
            "text/plain": [
              "['Canada',\n",
              " 'Australia',\n",
              " 'United States',\n",
              " 'United Arab Emirates',\n",
              " 'Panama',\n",
              " 'Argentina',\n",
              " 'Saudi Arabia',\n",
              " 'Suriname',\n",
              " 'Slovakia',\n",
              " 'Italy',\n",
              " 'Slovenia',\n",
              " 'Poland',\n",
              " 'Jamaica',\n",
              " 'Turkmenistan',\n",
              " 'Vietnam',\n",
              " 'Azerbaijan',\n",
              " 'Zambia',\n",
              " 'Philippines',\n",
              " 'Albania',\n",
              " 'Mongolia',\n",
              " 'Honduras',\n",
              " 'Iran',\n",
              " 'Zimbabwe',\n",
              " 'Congo (Kinshasa)',\n",
              " 'Kenya',\n",
              " 'Georgia',\n",
              " 'Egypt',\n",
              " 'Comoros',\n",
              " 'Cambodia',\n",
              " 'Guinea',\n",
              " 'Benin']"
            ]
          },
          "metadata": {
            "tags": []
          },
          "execution_count": 25
        }
      ]
    },
    {
      "cell_type": "markdown",
      "metadata": {
        "id": "1DcfC-D9oofp"
      },
      "source": [
        "### 練習6: 2016年のデータでHappiness Rankが10の倍数の国名をリストに格納してみてください。"
      ]
    },
    {
      "cell_type": "code",
      "metadata": {
        "collapsed": true,
        "id": "9eNl6jlLoofp"
      },
      "source": [
        "# Enter your code here"
      ],
      "execution_count": null,
      "outputs": []
    },
    {
      "cell_type": "markdown",
      "metadata": {
        "id": "ds80nXNZoofp"
      },
      "source": [
        "### 練習7: 2017年のデータでGenerosityのスコアがDystopia.Residualのスコアを上回る国をリストに格納してください。"
      ]
    },
    {
      "cell_type": "code",
      "metadata": {
        "collapsed": true,
        "id": "2_PWHmDtoofp"
      },
      "source": [
        "# Enter your code here"
      ],
      "execution_count": null,
      "outputs": []
    },
    {
      "cell_type": "markdown",
      "metadata": {
        "id": "ds-W-ooYoofp"
      },
      "source": [
        "## データのマージ\n",
        "\n",
        "2つのデータを結合させます"
      ]
    },
    {
      "cell_type": "markdown",
      "metadata": {
        "id": "w0UhtlRSoofp"
      },
      "source": [
        "### 例: 2015年のデータと2016年のデータを結合させます"
      ]
    },
    {
      "cell_type": "code",
      "metadata": {
        "collapsed": true,
        "id": "RcDg9tlXoofp"
      },
      "source": [
        "# こちらのコードは、2016年のデータをwhr2016というデータフレームで格納している前提で動かすことができます。（whr2016がなければエラーが出ます）\n",
        "newdata = pd.merge(whr2015, whr2016, how=\"inner\", on = \"Country\", suffixes=['2015', '2016'])\n",
        "newdata.head()"
      ],
      "execution_count": null,
      "outputs": []
    },
    {
      "cell_type": "markdown",
      "metadata": {
        "id": "qKjR4vAtoofq"
      },
      "source": [
        "### 練習8: 2016年のデータと2017年のデータを結合させてください。"
      ]
    },
    {
      "cell_type": "code",
      "metadata": {
        "collapsed": true,
        "id": "PIvhq6gpoofq"
      },
      "source": [
        "# Enter your code here"
      ],
      "execution_count": null,
      "outputs": []
    },
    {
      "cell_type": "markdown",
      "metadata": {
        "id": "x-1TGjj_oofq"
      },
      "source": [
        "## 新しい列の追加\n",
        "\n",
        "注意: こちらは上記の結合を実施してから、実施してください。"
      ]
    },
    {
      "cell_type": "markdown",
      "metadata": {
        "id": "fKeqI_z6oofq"
      },
      "source": [
        "### 例: 新しい列 \"Score_change\"（Happiness Scoreの変化率）を作ります"
      ]
    },
    {
      "cell_type": "code",
      "metadata": {
        "collapsed": true,
        "id": "iQiEbdGZoofq"
      },
      "source": [
        "# こちらのコードは、2015年のデータと2016年のデータをマージしたnewdataが作成されていないとエラーが出ます\n",
        "newdata['score_change'] = newdata['Happiness Score2016'] / newdata['Happiness Score2015']\n",
        "newdata.head()"
      ],
      "execution_count": null,
      "outputs": []
    },
    {
      "cell_type": "markdown",
      "metadata": {
        "id": "q5yduUvIoofq"
      },
      "source": [
        "### 練習9: 2016年のデータと2017年のデータを結合したデータを使って、例のようにscore_changeを作ってください\n",
        "注意:　列名をよく確認のうえ行いましょう"
      ]
    },
    {
      "cell_type": "code",
      "metadata": {
        "collapsed": true,
        "id": "0cPsaI9noofr"
      },
      "source": [
        "# Enter your code here"
      ],
      "execution_count": null,
      "outputs": []
    },
    {
      "cell_type": "markdown",
      "metadata": {
        "id": "SyK1GL80oofr"
      },
      "source": [
        "### 練習10: score_changeが2016年から2017年にかけて1.1倍以上になった国を出力してください。"
      ]
    },
    {
      "cell_type": "code",
      "metadata": {
        "collapsed": true,
        "id": "MRmHivWioofr"
      },
      "source": [
        "# Enter your code here"
      ],
      "execution_count": null,
      "outputs": []
    },
    {
      "cell_type": "markdown",
      "metadata": {
        "id": "1jiUuPI1oofr"
      },
      "source": [
        "## データの集計\n",
        "\n",
        "Pandasを使えばグループごとの平均などを計算することができます。"
      ]
    },
    {
      "cell_type": "markdown",
      "metadata": {
        "id": "ejHFMyBZoofr"
      },
      "source": [
        "### 例: 2015年のデータで、Regionごとの平均Happiness Scoreを計算して棒グラフにします"
      ]
    },
    {
      "cell_type": "code",
      "metadata": {
        "collapsed": true,
        "id": "PCVlESBhoofr"
      },
      "source": [
        "agg_data = whr2015.groupby(\"Region\").aggregate({\"Happiness Score\":np.mean})\n",
        "agg_data"
      ],
      "execution_count": null,
      "outputs": []
    },
    {
      "cell_type": "code",
      "metadata": {
        "collapsed": true,
        "id": "TgElRDX4oofr"
      },
      "source": [
        "agg_data.plot(kind=\"bar\")"
      ],
      "execution_count": null,
      "outputs": []
    },
    {
      "cell_type": "markdown",
      "metadata": {
        "id": "IZTHvHnsoofs"
      },
      "source": [
        "### 練習11: 例題と同じことを2016年、2017年でも実施してください\n",
        "注意:　列名をよく確認のうえ行いましょう"
      ]
    },
    {
      "cell_type": "code",
      "metadata": {
        "collapsed": true,
        "id": "X0sZd1k9oofs"
      },
      "source": [
        "# Enter your code here"
      ],
      "execution_count": null,
      "outputs": []
    }
  ]
}